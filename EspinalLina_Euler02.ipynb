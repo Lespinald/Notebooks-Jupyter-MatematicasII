{
 "cells": [
  {
   "cell_type": "code",
   "execution_count": 28,
   "id": "afafdc21",
   "metadata": {},
   "outputs": [
    {
     "name": "stdout",
     "output_type": "stream",
     "text": [
      "Número:8\n",
      "4\n"
     ]
    }
   ],
   "source": [
    "n = int(input(\"Número:\")) #Indicamos nuestro n a evaluar\n",
    "numero = n\n",
    "resultado = n # Inicializamos una variable resultado como n\n",
    "\n",
    "# Si el MCD de 2 numeros es 1, entonces los dos números son primos relativos.\n",
    "\n",
    "# Consideramos todos los factores primos de n \n",
    "p = 2\n",
    "while p ** 2 <= n:# Si p es factor primo de n...\n",
    "    if n % p == 0:# Actualiza el valor resultado y elimina los multiplos de p de n \n",
    "        while n % p == 0:\n",
    "            n //= p\n",
    "        resultado -= resultado // p #Restamos los múltiplos del resultado\n",
    "    p += 1\n",
    "    \n",
    "print(resultado)"
   ]
  },
  {
   "cell_type": "code",
   "execution_count": 29,
   "id": "5acb5857",
   "metadata": {},
   "outputs": [
    {
     "name": "stdout",
     "output_type": "stream",
     "text": [
      "Total de primos relativos a 8: 4\n"
     ]
    }
   ],
   "source": [
    "#Para un entero n dado verificamos número por número si cada número menor o igual que n es primo relativo a n\n",
    "\n",
    "# Si n tiene un factor primo mayour a sqrt(n), entonces debemos contar ese factor primo\n",
    "\n",
    "if n > 1:\n",
    "    resultado -= resultado // n\n",
    "\n",
    "print(f\"Total de primos relativos a {numero}: {resultado}\")"
   ]
  },
  {
   "cell_type": "code",
   "execution_count": 30,
   "id": "0934afca",
   "metadata": {},
   "outputs": [
    {
     "name": "stdout",
     "output_type": "stream",
     "text": [
      "Tiempo por método manual: 64\n",
      "Tiempo por Totient de Euler: 2.8284271247461903\n"
     ]
    }
   ],
   "source": [
    "#El enfoque manual requería verificar el GCD de n con n números, lo que tomó O (n ^ 2) tiempo.\n",
    "\n",
    "m = numero * numero\n",
    "print(f\"Tiempo por método manual: {m}\")\n",
    "\n",
    "#Por el contrario, usando la función totient de Euler, podemos calcularlo en tiempo O(sqrt(n)), que es mucho más rápido.\n",
    "\n",
    "o = numero**0.5\n",
    "print(f\"Tiempo por Totient de Euler: {o}\")\n",
    "\n"
   ]
  },
  {
   "cell_type": "code",
   "execution_count": null,
   "id": "97f9b63a",
   "metadata": {},
   "outputs": [],
   "source": []
  }
 ],
 "metadata": {
  "kernelspec": {
   "display_name": "Python 3 (ipykernel)",
   "language": "python",
   "name": "python3"
  },
  "language_info": {
   "codemirror_mode": {
    "name": "ipython",
    "version": 3
   },
   "file_extension": ".py",
   "mimetype": "text/x-python",
   "name": "python",
   "nbconvert_exporter": "python",
   "pygments_lexer": "ipython3",
   "version": "3.11.0"
  }
 },
 "nbformat": 4,
 "nbformat_minor": 5
}
