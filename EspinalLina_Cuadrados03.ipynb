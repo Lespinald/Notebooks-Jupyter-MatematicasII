{
 "cells": [
  {
   "cell_type": "code",
   "execution_count": 8,
   "id": "95b4955b",
   "metadata": {},
   "outputs": [
    {
     "name": "stdout",
     "output_type": "stream",
     "text": [
      "Número:896\n",
      "La suma de cuadrados mínima para obtener 896 es de [29, 7, 2, 1]\n"
     ]
    }
   ],
   "source": [
    "import numpy as np\n",
    "import math\n",
    "\n",
    "n = int(input(\"Número:\")) #Inicializamos con el número n a buscar sus cuadrados \n",
    "numero = n\n",
    "\n",
    "cuadrados = []\n",
    "while n>1: #Mientras nuestro número no llegue a 1 continua buscando los cuadrados perfectos hasta que...\n",
    "    a = math.trunc(np.sqrt(n)) #Devuelve la parte entera de la raíz de n \n",
    "    cuadrados.append(a) #Adjunta a la lista de cuadrados\n",
    "    n -=a**2 # Resta a y continua buscando cuadrados del residuo de n - el cuadrado recien hallado \n",
    "contador.append(1)\n",
    "\n",
    "print (f\"La suma de cuadrados mínima para obtener {numero} es de {cuadrados}\")\n",
    "\n",
    "#Existe la posibilidad de que se pueda obtener una suma de cuadrados menor a partir de la suma de otros números que no son cuadrados ya que es un problema complejo  "
   ]
  },
  {
   "cell_type": "code",
   "execution_count": null,
   "id": "8a36831c",
   "metadata": {},
   "outputs": [],
   "source": []
  }
 ],
 "metadata": {
  "kernelspec": {
   "display_name": "Python 3 (ipykernel)",
   "language": "python",
   "name": "python3"
  },
  "language_info": {
   "codemirror_mode": {
    "name": "ipython",
    "version": 3
   },
   "file_extension": ".py",
   "mimetype": "text/x-python",
   "name": "python",
   "nbconvert_exporter": "python",
   "pygments_lexer": "ipython3",
   "version": "3.11.0"
  }
 },
 "nbformat": 4,
 "nbformat_minor": 5
}
